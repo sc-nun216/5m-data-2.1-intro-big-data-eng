{
 "cells": [
  {
   "cell_type": "markdown",
   "id": "b870d98d",
   "metadata": {},
   "source": [
    "# Assignment\n",
    "\n",
    "## Brief\n",
    "\n",
    "Write the Python codes for the following questions.\n",
    "\n",
    "## Instructions\n",
    "\n",
    "Paste the answer as Python in the answer code section below each question.\n",
    "\n",
    "### Question 1\n",
    "\n",
    "Question: From the `movies` collection, return the documents with the `plot` that starts with `\"war\"` in acending order of released date, print only title, plot and released fields. Limit the result to 5.\n",
    "\n",
    "Answer:"
   ]
  },
  {
   "cell_type": "code",
   "execution_count": null,
   "id": "66429e93",
   "metadata": {},
   "outputs": [
    {
     "name": "stdout",
     "output_type": "stream",
     "text": [
      "Pinged your deployment. You successfully connected to MongoDB!\n"
     ]
    }
   ],
   "source": [
    "\n",
    "from pymongo.mongo_client import MongoClient\n",
    "from pymongo.server_api import ServerApi\n",
    "\n",
    "uri = \"mongodb+srv://<DB-USERNAME>:<DB-PASSWORD>@cluster0.c0yg5bx.mongodb.net/?retryWrites=true&w=majority&appName=Cluster0\"\n",
    "\n",
    "# Create a new client and connect to the server\n",
    "client = MongoClient(uri, server_api=ServerApi('1'))\n"
   ]
  },
  {
   "cell_type": "code",
   "execution_count": 5,
   "id": "6721e54b",
   "metadata": {},
   "outputs": [],
   "source": [
    "db = client.sample_mflix\n",
    "movies = db.movies\n",
    "comments = db.comments"
   ]
  },
  {
   "cell_type": "code",
   "execution_count": null,
   "id": "c6ea3923",
   "metadata": {},
   "outputs": [
    {
     "name": "stdout",
     "output_type": "stream",
     "text": [
      "Nausicaè of the Valley of the Wind was released in 1984-03-11 00:00:00\n",
      "Plot: Warrior/pacifist Princess Nausicaè desperately struggles to prevent two warring nations from destroying themselves and their dying planet.\n",
      "\n",
      "Nausicaè of the Valley of the Wind was released in 1984-03-11 00:00:00\n",
      "Plot: Warrior/pacifist Princess Nausicaè desperately struggles to prevent two warring nations from destroying themselves and their dying planet.\n",
      "\n",
      "Heaven and Earth was released in 1991-02-08 00:00:00\n",
      "Plot: Warlords Kagetora and Takeda each wish to prevent the other from gaining hegemony in feudal Japan. The two samurai leaders pursue one another across the countryside, engaging in massive ...\n",
      "\n",
      "Under the Stars was released in 2007-06-15 00:00:00\n",
      "Plot: Warning! This synopsis contains spoilers Bajo las estrellas (beneath the stars) features the selfish...\n",
      "\n",
      "Aliens vs. Predator: Requiem was released in 2007-12-25 00:00:00\n",
      "Plot: Warring alien and predator races descend on a small town, where unsuspecting residents must band together for any chance of survival.\n",
      "\n"
     ]
    }
   ],
   "source": [
    "for m in movies.find({\"plot\": {\"$regex\": \"^war\", \"$options\": \"i\"}},  # case-insensitive\n",
    "                     {\"title\": 1, \"plot\": 1, \"released\": 1, \"_id\": 0}) \\\n",
    "                    .sort(\"released\", 1).limit(5):\n",
    "    print(f\"{m['title']} was released in {m['released']}\")\n",
    "    print(f\"Plot: {m['plot']}\\n\")"
   ]
  },
  {
   "cell_type": "markdown",
   "id": "c2b8fb24",
   "metadata": {},
   "source": [
    "### Question 2\n",
    "\n",
    "Question: Group by `rated` and count the number of movies in each.\n",
    "\n",
    "Answer:"
   ]
  },
  {
   "cell_type": "code",
   "execution_count": 9,
   "id": "a5f36473",
   "metadata": {},
   "outputs": [
    {
     "name": "stdout",
     "output_type": "stream",
     "text": [
      "{'_id': None, 'movie_count': 9894}\n",
      "{'_id': 'R', 'movie_count': 5537}\n",
      "{'_id': 'PG-13', 'movie_count': 2321}\n",
      "{'_id': 'PG', 'movie_count': 1852}\n",
      "{'_id': 'APPROVED', 'movie_count': 709}\n",
      "{'_id': 'G', 'movie_count': 477}\n",
      "{'_id': 'PASSED', 'movie_count': 181}\n",
      "{'_id': 'TV-14', 'movie_count': 89}\n",
      "{'_id': 'TV-PG', 'movie_count': 76}\n",
      "{'_id': 'TV-MA', 'movie_count': 60}\n",
      "{'_id': 'TV-G', 'movie_count': 59}\n",
      "{'_id': 'GP', 'movie_count': 44}\n",
      "{'_id': 'M', 'movie_count': 37}\n",
      "{'_id': 'Approved', 'movie_count': 5}\n",
      "{'_id': 'AO', 'movie_count': 3}\n",
      "{'_id': 'TV-Y7', 'movie_count': 3}\n",
      "{'_id': 'Not Rated', 'movie_count': 1}\n",
      "{'_id': 'OPEN', 'movie_count': 1}\n"
     ]
    }
   ],
   "source": [
    "stage_group_rated = {\n",
    "    \"$group\": {\n",
    "        \"_id\": \"$rated\",\n",
    "        \"movie_count\": {\"$sum\": 1}\n",
    "    }\n",
    "}\n",
    "stage_sort_rated = {\n",
    "    \"$sort\" : {\"movie_count\" : -1}\n",
    "}\n",
    "pipeline = [stage_group_rated,\n",
    "            stage_sort_rated\n",
    "            ]\n",
    "\n",
    "results = movies.aggregate(pipeline)\n",
    "\n",
    "for result in results:\n",
    "    print(result)"
   ]
  },
  {
   "cell_type": "markdown",
   "id": "1422fa2a",
   "metadata": {},
   "source": [
    "### Question 3\n",
    "\n",
    "Question: Count the number of movies with 3 comments or more.\n",
    "\n",
    "Answer:"
   ]
  },
  {
   "cell_type": "code",
   "execution_count": null,
   "id": "c70536f4",
   "metadata": {},
   "outputs": [],
   "source": [
    "# Look up related documents in the 'comments' collection:\n",
    "stage_lookup_comments = {\n",
    "   \"$lookup\": {\n",
    "         \"from\": \"comments\", \n",
    "         \"localField\": \"_id\", \n",
    "         \"foreignField\": \"movie_id\", \n",
    "         \"as\": \"related_comments\",\n",
    "   }\n",
    "}\n",
    "# Calculate the number of comments for each movie:\n",
    "stage_comments_count = {\n",
    "    \"$addFields\": {\n",
    "         \"comment_count\": {\n",
    "            \"$size\": \"$related_comments\"\n",
    "         }\n",
    "    }\n",
    "}\n",
    "# Match movie documents with at least 3 comment:\n",
    "stage_match_comments_count = {\n",
    "   \"$match\": {\n",
    "         \"comment_count\": {\n",
    "            \"$gte\": 3\n",
    "         }\n",
    "   } \n",
    "}\n",
    "# Count number of movies with more than 3 comments\n",
    "stage_count = {\n",
    "   \"$count\": \"total_movies\"\n",
    "   }\n",
    "\n",
    "pipeline = [\n",
    "   stage_lookup_comments,\n",
    "   stage_comments_count,\n",
    "   stage_match_comments_count,\n",
    "   stage_count,\n",
    "]\n",
    "\n",
    "results = movies.aggregate(pipeline)\n",
    "for result in results:\n",
    "    print(f\"Number of movies with more than 3 comments: {result['total_movies']}\")"
   ]
  },
  {
   "cell_type": "code",
   "execution_count": null,
   "id": "3ff12cf7",
   "metadata": {},
   "outputs": [
    {
     "name": "stdout",
     "output_type": "stream",
     "text": [
      "Number of movies with more than 3 comments: 400\n"
     ]
    }
   ],
   "source": [
    "# Another way through looking at colection: Comment\n",
    "group_by_movie = {\n",
    "    \"$group\": {\n",
    "        \"_id\": \"$movie_id\",              # Take each comment's movie_id and group by it\n",
    "        \"comment_count\": {\"$sum\": 1}     # For each group, count how many comments (add 1 for each)\n",
    "    }\n",
    "}\n",
    "filter_movies = {\n",
    "    \"$match\": {\n",
    "        \"comment_count\": {\"$gte\": 3}     # Keep only if comment_count >= 3\n",
    "    }\n",
    "}\n",
    "count_movies = {\n",
    "    \"$count\": \"movies_with_3plus_comments\"  # Count remaining documents and name the result\n",
    "}\n",
    "pipeline = [\n",
    "    group_by_movie,    \n",
    "    filter_movies,     \n",
    "    count_movies,       \n",
    "]\n",
    "\n",
    "results = comments.aggregate(pipeline)\n",
    "for result in results:\n",
    "    print(f\"Number of movies with more than 3 comments: {result['movies_with_3plus_comments']}\")"
   ]
  },
  {
   "cell_type": "markdown",
   "id": "ad00431d",
   "metadata": {},
   "source": [
    "## Submission\n",
    "\n",
    "- Submit the URL of the GitHub Repository that contains your work to NTU black board.\n",
    "- Should you reference the work of your classmate(s) or online resources, give them credit by adding either the name of your classmate or URL."
   ]
  }
 ],
 "metadata": {
  "jupytext": {
   "cell_metadata_filter": "-all",
   "main_language": "python",
   "notebook_metadata_filter": "-all"
  },
  "kernelspec": {
   "display_name": "bde",
   "language": "python",
   "name": "python3"
  },
  "language_info": {
   "codemirror_mode": {
    "name": "ipython",
    "version": 3
   },
   "file_extension": ".py",
   "mimetype": "text/x-python",
   "name": "python",
   "nbconvert_exporter": "python",
   "pygments_lexer": "ipython3",
   "version": "3.10.13"
  }
 },
 "nbformat": 4,
 "nbformat_minor": 5
}
